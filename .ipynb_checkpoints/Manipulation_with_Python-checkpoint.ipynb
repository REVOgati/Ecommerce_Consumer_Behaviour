{
 "cells": [
  {
   "cell_type": "markdown",
   "id": "3751c91a",
   "metadata": {},
   "source": [
    "# EXPLORATORY DATA ANALYSIS"
   ]
  },
  {
   "cell_type": "markdown",
   "id": "8931da47",
   "metadata": {},
   "source": [
    "- The dataset used here is a cleaned version of the original dataset.\n",
    "- The data cleaning and preparation process is in the file cleaningProcess.ipynb - [Click here to view data cleaning process](cleaningProcess.ipynb)"
   ]
  },
  {
   "cell_type": "markdown",
   "id": "527ab1c1",
   "metadata": {},
   "source": [
    "# The following are the different objectives in this Exploration:\n",
    "\n",
    "1. Customer Segmentation:\n",
    "- What are the distinct customer segments based on their purchasing behavior?\n",
    "- How can we categorize customers as new, returning, or loyal?\n",
    "\n",
    "2. Customer Retention:\n",
    "- What is the customer retention rate, and how can we improve it?\n",
    "- What strategies can be implemented to reduce churn among customers?\n",
    "\n",
    "3. Product and Department Insights:\n",
    "- Analyze the distribution of products across different departments.\n",
    "- Identify which departments have the highest sales and reordering rates.\n",
    "- Investigate which products and departments contribute the most to overall revenue.\n",
    "\n",
    "4. Market Basket Analysis:\n",
    "- Perform market basket analysis to identify product associations and frequently co-purchased products. This can inform cross-selling and bundling strategies.\n",
    "\n",
    "5. Re-ordering patterns:\n",
    "- Calculate the reordering rate for products"
   ]
  },
  {
   "cell_type": "code",
   "execution_count": 1,
   "id": "cb80664b",
   "metadata": {},
   "outputs": [],
   "source": [
    "#This cell will be used for importing packages needed for subsequent stages\n",
    "import pandas as pd"
   ]
  },
  {
   "cell_type": "code",
   "execution_count": null,
   "id": "b08dfa50",
   "metadata": {},
   "outputs": [],
   "source": [
    "df = pd.read_excel(r'C:\\Users\\GARETH TIROP\\Desktop\\Data Science and Analytics Docs\\Cleaned_Ecommerce_Dataset.xlsx')"
   ]
  },
  {
   "cell_type": "code",
   "execution_count": null,
   "id": "d74c7cc2",
   "metadata": {},
   "outputs": [],
   "source": [
    "df"
   ]
  },
  {
   "cell_type": "markdown",
   "id": "03300667",
   "metadata": {},
   "source": [
    "# Customer Segmentation"
   ]
  },
  {
   "cell_type": "markdown",
   "id": "c29b8d2e",
   "metadata": {},
   "source": [
    "- What are the distinct customer segments based on their purchasing behavior?"
   ]
  },
  {
   "cell_type": "code",
   "execution_count": null,
   "id": "7c4909fc",
   "metadata": {},
   "outputs": [],
   "source": [
    "# Categorizing customers as new, returning or loyal\n",
    "\n",
    "#This is based on the days_since_prior_order column\n",
    "\n",
    "#First, we check the unique values\n",
    "\n",
    "uniqueValues = df[\"days_since_prior_order\"].unique()\n",
    "Print(\"The Unique values in 'days_since_prior_order' column are: \\n\", uniqueValues)\n",
    "\n",
    "#New customers have days since their prior purchase as 0\n",
    "\n",
    "#Returning customers have only 2 sets of occurences\n",
    "\n",
    "# Loyal customers are those with few days since their prior purchase \n",
    "\n",
    "df[\"days_since_prior_order\"].max()\n"
   ]
  },
  {
   "cell_type": "code",
   "execution_count": null,
   "id": "94eb2301",
   "metadata": {},
   "outputs": [],
   "source": []
  }
 ],
 "metadata": {
  "kernelspec": {
   "display_name": "Python 3",
   "language": "python",
   "name": "python3"
  },
  "language_info": {
   "codemirror_mode": {
    "name": "ipython",
    "version": 3
   },
   "file_extension": ".py",
   "mimetype": "text/x-python",
   "name": "python",
   "nbconvert_exporter": "python",
   "pygments_lexer": "ipython3",
   "version": "3.8.8"
  }
 },
 "nbformat": 4,
 "nbformat_minor": 5
}
